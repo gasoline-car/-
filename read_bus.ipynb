{
  "nbformat": 4,
  "nbformat_minor": 0,
  "metadata": {
    "colab": {
      "provenance": [],
      "authorship_tag": "ABX9TyN9tkVVEyESh8iG8vEJiqdk",
      "include_colab_link": true
    },
    "kernelspec": {
      "name": "python3",
      "display_name": "Python 3"
    },
    "language_info": {
      "name": "python"
    }
  },
  "cells": [
    {
      "cell_type": "markdown",
      "metadata": {
        "id": "view-in-github",
        "colab_type": "text"
      },
      "source": [
        "<a href=\"https://colab.research.google.com/github/gasoline-car/Introduction-to-IOT/blob/main/read_bus.ipynb\" target=\"_parent\"><img src=\"https://colab.research.google.com/assets/colab-badge.svg\" alt=\"Open In Colab\"/></a>"
      ]
    },
    {
      "cell_type": "code",
      "execution_count": 1,
      "metadata": {
        "id": "DEDzo5sMJNNC",
        "colab": {
          "base_uri": "https://localhost:8080/"
        },
        "outputId": "67d6c348-a3a4-4127-b56c-b5eb06e4d08d"
      },
      "outputs": [
        {
          "output_type": "stream",
          "name": "stdout",
          "text": [
            "<?xml version=\"1.0\" encoding=\"UTF-8\" standalone=\"yes\"?><response><comMsgHeader/><msgHeader><queryTime>2024-03-17 22:36:38.156</queryTime><resultCode>0</resultCode><resultMessage>정상적으로 처리되었습니다.</resultMessage></msgHeader><msgBody><busLocationList><endBus>0</endBus><lowPlate>0</lowPlate><plateNo>경기70바5584</plateNo><plateType>3</plateType><remainSeatCnt>49</remainSeatCnt><routeId>200000115</routeId><stationId>228000709</stationId><stationSeq>56</stationSeq></busLocationList><busLocationList><endBus>0</endBus><lowPlate>0</lowPlate><plateNo>경기70바5909</plateNo><plateType>3</plateType><remainSeatCnt>25</remainSeatCnt><routeId>200000115</routeId><stationId>121000005</stationId><stationSeq>31</stationSeq></busLocationList><busLocationList><endBus>0</endBus><lowPlate>0</lowPlate><plateNo>경기70바5594</plateNo><plateType>3</plateType><remainSeatCnt>38</remainSeatCnt><routeId>200000115</routeId><stationId>121000009</stationId><stationSeq>28</stationSeq></busLocationList><busLocationList><endBus>0</endBus><lowPlate>0</lowPlate><plateNo>경기70바5602</plateNo><plateType>3</plateType><remainSeatCnt>44</remainSeatCnt><routeId>200000115</routeId><stationId>228000701</stationId><stationSeq>12</stationSeq></busLocationList><busLocationList><endBus>0</endBus><lowPlate>0</lowPlate><plateNo>경기70바5586</plateNo><plateType>3</plateType><remainSeatCnt>40</remainSeatCnt><routeId>200000115</routeId><stationId>228000723</stationId><stationSeq>54</stationSeq></busLocationList><busLocationList><endBus>0</endBus><lowPlate>0</lowPlate><plateNo>경기70바5588</plateNo><plateType>3</plateType><remainSeatCnt>9</remainSeatCnt><routeId>200000115</routeId><stationId>228001938</stationId><stationSeq>46</stationSeq></busLocationList><busLocationList><endBus>0</endBus><lowPlate>0</lowPlate><plateNo>경기70바5590</plateNo><plateType>3</plateType><remainSeatCnt>20</remainSeatCnt><routeId>200000115</routeId><stationId>121000220</stationId><stationSeq>34</stationSeq></busLocationList><busLocationList><endBus>0</endBus><lowPlate>0</lowPlate><plateNo>경기70바5595</plateNo><plateType>3</plateType><remainSeatCnt>46</remainSeatCnt><routeId>200000115</routeId><stationId>277103390</stationId><stationSeq>23</stationSeq></busLocationList><busLocationList><endBus>0</endBus><lowPlate>0</lowPlate><plateNo>경기70바5589</plateNo><plateType>3</plateType><remainSeatCnt>0</remainSeatCnt><routeId>200000115</routeId><stationId>277103385</stationId><stationSeq>40</stationSeq></busLocationList><busLocationList><endBus>0</endBus><lowPlate>0</lowPlate><plateNo>경기70바5583</plateNo><plateType>3</plateType><remainSeatCnt>-1</remainSeatCnt><routeId>200000115</routeId><stationId>277103386</stationId><stationSeq>17</stationSeq></busLocationList><busLocationList><endBus>0</endBus><lowPlate>0</lowPlate><plateNo>경기70바5603</plateNo><plateType>3</plateType><remainSeatCnt>48</remainSeatCnt><routeId>200000115</routeId><stationId>203000450</stationId><stationSeq>5</stationSeq></busLocationList><busLocationList><endBus>0</endBus><lowPlate>0</lowPlate><plateNo>경기70바5587</plateNo><plateType>3</plateType><remainSeatCnt>-1</remainSeatCnt><routeId>200000115</routeId><stationId>203000065</stationId><stationSeq>51</stationSeq></busLocationList></msgBody></response>\n"
          ]
        }
      ],
      "source": [
        "import requests\n",
        "url='http://openapi.gbis.go.kr/ws/rest/buslocationservice?serviceKey=1234567890&routeId=200000115'\n",
        "r = requests.get(url)\n",
        "print(r.text)"
      ]
    },
    {
      "cell_type": "code",
      "source": [
        "from bs4 import BeautifulSoup\n",
        "\n",
        "soup = BeautifulSoup(r.text, features=\"xml\")\n",
        ""
      ],
      "metadata": {
        "id": "IyQWwEIsoFGF"
      },
      "execution_count": 2,
      "outputs": []
    },
    {
      "cell_type": "code",
      "source": [
        "soup.find_all('stationId')"
      ],
      "metadata": {
        "colab": {
          "base_uri": "https://localhost:8080/"
        },
        "id": "RItYKPY1oc2B",
        "outputId": "496420e8-e702-4be8-baee-34c52b5e23d9"
      },
      "execution_count": 3,
      "outputs": [
        {
          "output_type": "execute_result",
          "data": {
            "text/plain": [
              "[<stationId>228000709</stationId>,\n",
              " <stationId>121000005</stationId>,\n",
              " <stationId>121000009</stationId>,\n",
              " <stationId>228000701</stationId>,\n",
              " <stationId>228000723</stationId>,\n",
              " <stationId>228001938</stationId>,\n",
              " <stationId>121000220</stationId>,\n",
              " <stationId>277103390</stationId>,\n",
              " <stationId>277103385</stationId>,\n",
              " <stationId>277103386</stationId>,\n",
              " <stationId>203000450</stationId>,\n",
              " <stationId>203000065</stationId>]"
            ]
          },
          "metadata": {},
          "execution_count": 3
        }
      ]
    },
    {
      "cell_type": "code",
      "source": [],
      "metadata": {
        "id": "7BXzze5soe6O"
      },
      "execution_count": null,
      "outputs": []
    }
  ]
}