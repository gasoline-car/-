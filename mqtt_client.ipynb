{
  "nbformat": 4,
  "nbformat_minor": 0,
  "metadata": {
    "colab": {
      "provenance": [],
      "authorship_tag": "ABX9TyOEdYNULGi8Gy/z3oEj0q9Y",
      "include_colab_link": true
    },
    "kernelspec": {
      "name": "python3",
      "display_name": "Python 3"
    },
    "language_info": {
      "name": "python"
    }
  },
  "cells": [
    {
      "cell_type": "markdown",
      "metadata": {
        "id": "view-in-github",
        "colab_type": "text"
      },
      "source": [
        "<a href=\"https://colab.research.google.com/github/gasoline-car/Introduction-to-IOT/blob/main/mqtt_client.ipynb\" target=\"_parent\"><img src=\"https://colab.research.google.com/assets/colab-badge.svg\" alt=\"Open In Colab\"/></a>"
      ]
    },
    {
      "cell_type": "code",
      "execution_count": 3,
      "metadata": {
        "colab": {
          "base_uri": "https://localhost:8080/"
        },
        "id": "gRq-UPnKX9fD",
        "outputId": "45695e3b-5711-44b9-d588-4b096fe3ec3a"
      },
      "outputs": [
        {
          "output_type": "stream",
          "name": "stdout",
          "text": [
            "Requirement already satisfied: paho-mqtt in /usr/local/lib/python3.10/dist-packages (2.0.0)\n"
          ]
        }
      ],
      "source": [
        "!pip install paho-mqtt"
      ]
    },
    {
      "cell_type": "code",
      "source": [
        "import paho.mqtt.client as mqtt\n",
        "\n",
        "def on_connect(client, userdata, flags, reason_code, properties):\n",
        "    print(f\"Connected with result code {reason_code}\")\n",
        "    client.subscribe(\"connectware/indoor/data/#\")\n",
        "\n",
        "def on_message(client, userdata, msg):\n",
        "    print(msg.topic, msg.payload.decode('utf8'))\n",
        "\n",
        "client = mqtt.Client(mqtt.CallbackAPIVersion.VERSION2)\n",
        "client.on_connect = on_connect\n",
        "client.on_message = on_message\n",
        "\n",
        "client.connect(\"damoa.io\", 1883, 60)\n",
        "client.loop_forever()\n"
      ],
      "metadata": {
        "colab": {
          "base_uri": "https://localhost:8080/"
        },
        "id": "FEzvfqM8YBiP",
        "outputId": "d01e1500-b820-4370-9082-8672f2371f64"
      },
      "execution_count": null,
      "outputs": [
        {
          "output_type": "stream",
          "name": "stdout",
          "text": [
            "Connected with result code Success\n",
            "connectware/indoor/data/1501 {\"dust\":\"3,3\",\"co2\":\"397\",\"bme680\":\"26.71,33.82,606890,100557,64.22\",\"time\":\"2024-04-04 15:10:24\", \"serial\":120, \"ip\":\"203.255.190.49\"}\n",
            "connectware/indoor/data/1501 {\"dust\":\"3,3\",\"co2\":\"397\",\"bme680\":\"26.71,33.81,606890,100557,64.14\",\"time\":\"2024-04-04 15:10:25\", \"serial\":121, \"ip\":\"203.255.190.49\"}\n",
            "connectware/indoor/data/1501 {\"dust\":\"3,3\",\"co2\":\"397\",\"bme680\":\"26.72,33.79,608540,100558,64.05\",\"time\":\"2024-04-04 15:10:26\", \"serial\":122, \"ip\":\"203.255.190.49\"}\n",
            "connectware/indoor/data/1501 {\"dust\":\"3,3\",\"co2\":\"397\",\"bme680\":\"26.72,33.78,604705,100557,64.05\",\"time\":\"2024-04-04 15:10:27\", \"serial\":123, \"ip\":\"203.255.190.49\"}\n",
            "connectware/indoor/data/1501 {\"dust\":\"5,5\",\"co2\":\"397\",\"bme680\":\"26.72,33.79,606890,100557,64.14\",\"time\":\"2024-04-04 15:10:28\", \"serial\":124, \"ip\":\"203.255.190.49\"}\n",
            "connectware/indoor/data/1501 {\"dust\":\"3,3\",\"co2\":\"397\",\"bme680\":\"26.73,33.78,605796,100557,64.14\",\"time\":\"2024-04-04 15:10:29\", \"serial\":125, \"ip\":\"203.255.190.49\"}\n",
            "connectware/indoor/data/1501 {\"dust\":\"3,3\",\"co2\":\"397\",\"bme680\":\"26.73,33.77,610752,100557,64.14\",\"time\":\"2024-04-04 15:10:30\", \"serial\":126, \"ip\":\"203.255.190.49\"}\n",
            "connectware/indoor/data/1501 {\"dust\":\"4,4\",\"co2\":\"397\",\"bme680\":\"26.73,33.77,605250,100557,64.05\",\"time\":\"2024-04-04 15:10:31\", \"serial\":127, \"ip\":\"203.255.190.49\"}\n"
          ]
        }
      ]
    },
    {
      "cell_type": "code",
      "source": [],
      "metadata": {
        "id": "8bIivOtIYSiU"
      },
      "execution_count": null,
      "outputs": []
    }
  ]
}