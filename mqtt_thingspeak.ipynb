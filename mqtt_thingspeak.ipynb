{
  "cells": [
    {
      "cell_type": "markdown",
      "metadata": {
        "id": "view-in-github",
        "colab_type": "text"
      },
      "source": [
        "<a href=\"https://colab.research.google.com/github/gasoline-car/Introduction-to-IOT/blob/main/mqtt_thingspeak.ipynb\" target=\"_parent\"><img src=\"https://colab.research.google.com/assets/colab-badge.svg\" alt=\"Open In Colab\"/></a>"
      ]
    },
    {
      "cell_type": "code",
      "execution_count": 1,
      "metadata": {
        "colab": {
          "base_uri": "https://localhost:8080/"
        },
        "id": "tlOcQlvhYdvo",
        "outputId": "fe25e89c-6a73-406c-9136-4743a46f46f6"
      },
      "outputs": [
        {
          "output_type": "stream",
          "name": "stdout",
          "text": [
            "Collecting paho-mqtt\n",
            "  Downloading paho_mqtt-2.0.0-py3-none-any.whl (66 kB)\n",
            "\u001b[?25l     \u001b[90m━━━━━━━━━━━━━━━━━━━━━━━━━━━━━━━━━━━━━━━━\u001b[0m \u001b[32m0.0/66.9 kB\u001b[0m \u001b[31m?\u001b[0m eta \u001b[36m-:--:--\u001b[0m\r\u001b[2K     \u001b[91m━━━━━━━━━━━━━━━━━━━━━━━━━━━━━━━━━━━━\u001b[0m\u001b[91m╸\u001b[0m\u001b[90m━━━\u001b[0m \u001b[32m61.4/66.9 kB\u001b[0m \u001b[31m1.8 MB/s\u001b[0m eta \u001b[36m0:00:01\u001b[0m\r\u001b[2K     \u001b[90m━━━━━━━━━━━━━━━━━━━━━━━━━━━━━━━━━━━━━━━━\u001b[0m \u001b[32m66.9/66.9 kB\u001b[0m \u001b[31m1.3 MB/s\u001b[0m eta \u001b[36m0:00:00\u001b[0m\n",
            "\u001b[?25hInstalling collected packages: paho-mqtt\n",
            "Successfully installed paho-mqtt-2.0.0\n"
          ]
        }
      ],
      "source": [
        "!pip install paho-mqtt"
      ]
    },
    {
      "cell_type": "code",
      "execution_count": 2,
      "metadata": {
        "id": "NWfhyQ7IYiem"
      },
      "outputs": [],
      "source": [
        "import json\n",
        "import requests\n",
        "n=0\n",
        "\n",
        "def doit(topic, payload):\n",
        "  global n\n",
        "  print(topic, payload)\n",
        "  j=json.loads(payload)\n",
        "  #print(j['co2'])\n",
        "  #url='https://api.thingspeak.com/update?api_key=MBXHFKNOS3NTXOGA'\n",
        "  url='https://api.thingspeak.com/update?api_key=OKKOZBLNAPCEXYYA'\n",
        "  url +='&field1='+j['co2']\n",
        "  url +='&field2='+j['bme680'].split(',')[0]\n",
        "  if n>15:\n",
        "    r=requests.get(url)\n",
        "    print(url, r.text)\n",
        "    n=0\n",
        "  n+=1\n"
      ]
    },
    {
      "cell_type": "code",
      "execution_count": null,
      "metadata": {
        "colab": {
          "base_uri": "https://localhost:8080/"
        },
        "id": "f-d_NC-_YkDn",
        "outputId": "eda5bd2d-3661-40ef-aaa2-c11f727e316e"
      },
      "outputs": [
        {
          "output_type": "stream",
          "name": "stdout",
          "text": [
            "Connected with result code Success\n",
            "connectware/indoor/data/1502 {\"dust\":\"30,34\",\"co2\":\"559\",\"bme680\":\"23.66,18.16,1469613,101005,26.76\",\"time\":\"2024-04-07 23:50:16\", \"serial\":284932, \"ip\":\"203.255.190.49\"}\n",
            "connectware/indoor/data/1502 {\"dust\":\"31,38\",\"co2\":\"560\",\"bme680\":\"23.66,18.17,1474501,101004,26.68\",\"time\":\"2024-04-07 23:50:17\", \"serial\":284933, \"ip\":\"203.255.190.49\"}\n",
            "connectware/indoor/data/1502 {\"dust\":\"31,38\",\"co2\":\"560\",\"bme680\":\"23.66,18.17,1469613,101004,26.68\",\"time\":\"2024-04-07 23:50:18\", \"serial\":284934, \"ip\":\"203.255.190.49\"}\n",
            "connectware/indoor/data/1502 {\"dust\":\"31,38\",\"co2\":\"560\",\"bme680\":\"23.66,18.16,1474501,101005,26.59\",\"time\":\"2024-04-07 23:50:19\", \"serial\":284935, \"ip\":\"203.255.190.49\"}\n",
            "connectware/indoor/data/1502 {\"dust\":\"31,38\",\"co2\":\"559\",\"bme680\":\"23.66,18.17,1471239,101006,26.59\",\"time\":\"2024-04-07 23:50:20\", \"serial\":284936, \"ip\":\"203.255.190.49\"}\n",
            "connectware/indoor/data/1502 {\"dust\":\"31,38\",\"co2\":\"559\",\"bme680\":\"23.66,18.17,1471239,101006,26.59\",\"time\":\"2024-04-07 23:50:21\", \"serial\":284937, \"ip\":\"203.255.190.49\"}\n",
            "connectware/indoor/data/1502 {\"dust\":\"32,38\",\"co2\":\"559\",\"bme680\":\"23.66,18.16,1476137,101006,26.59\",\"time\":\"2024-04-07 23:50:22\", \"serial\":284938, \"ip\":\"203.255.190.49\"}\n",
            "connectware/indoor/data/1502 {\"dust\":\"32,38\",\"co2\":\"559\",\"bme680\":\"23.66,18.17,1474501,101006,26.59\",\"time\":\"2024-04-07 23:50:23\", \"serial\":284939, \"ip\":\"203.255.190.49\"}\n",
            "connectware/indoor/data/1502 {\"dust\":\"32,39\",\"co2\":\"559\",\"bme680\":\"23.66,18.16,1469613,101006,26.68\",\"time\":\"2024-04-07 23:50:24\", \"serial\":284940, \"ip\":\"203.255.190.49\"}\n",
            "connectware/indoor/data/1502 {\"dust\":\"32,39\",\"co2\":\"559\",\"bme680\":\"23.66,18.16,1466372,101006,26.59\",\"time\":\"2024-04-07 23:50:25\", \"serial\":284941, \"ip\":\"203.255.190.49\"}\n",
            "connectware/indoor/data/1502 {\"dust\":\"32,38\",\"co2\":\"559\",\"bme680\":\"23.66,18.16,1479421,101006,26.59\",\"time\":\"2024-04-07 23:50:26\", \"serial\":284942, \"ip\":\"203.255.190.49\"}\n",
            "connectware/indoor/data/1502 {\"dust\":\"32,39\",\"co2\":\"559\",\"bme680\":\"23.66,18.16,1467991,101006,26.59\",\"time\":\"2024-04-07 23:50:27\", \"serial\":284943, \"ip\":\"203.255.190.49\"}\n",
            "connectware/indoor/data/1502 {\"dust\":\"32,39\",\"co2\":\"559\",\"bme680\":\"23.66,18.16,1472868,101006,26.59\",\"time\":\"2024-04-07 23:50:28\", \"serial\":284944, \"ip\":\"203.255.190.49\"}\n"
          ]
        }
      ],
      "source": [
        "import paho.mqtt.client as mqtt\n",
        "\n",
        "def on_connect(client, userdata, flags, reason_code, properties):\n",
        "    print(f\"Connected with result code {reason_code}\")\n",
        "    client.subscribe(\"connectware/indoor/data/1502\")\n",
        "\n",
        "def on_message(client, userdata, msg):\n",
        "    doit(msg.topic, msg.payload.decode('utf8'))\n",
        "\n",
        "client = mqtt.Client(mqtt.CallbackAPIVersion.VERSION2)\n",
        "client.on_connect = on_connect\n",
        "client.on_message = on_message\n",
        "\n",
        "client.connect(\"damoa.io\", 1883, 60)\n",
        "client.loop_forever()"
      ]
    },
    {
      "cell_type": "code",
      "execution_count": null,
      "metadata": {
        "id": "jAlwUZWsZAjX"
      },
      "outputs": [],
      "source": []
    }
  ],
  "metadata": {
    "colab": {
      "provenance": [],
      "authorship_tag": "ABX9TyO9KH7tvhHrUupjVvYHbWFv",
      "include_colab_link": true
    },
    "kernelspec": {
      "display_name": "Python 3",
      "name": "python3"
    },
    "language_info": {
      "name": "python"
    }
  },
  "nbformat": 4,
  "nbformat_minor": 0
}