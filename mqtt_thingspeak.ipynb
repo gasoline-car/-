{
  "nbformat": 4,
  "nbformat_minor": 0,
  "metadata": {
    "colab": {
      "provenance": [],
      "authorship_tag": "ABX9TyNOyEqe1rFZTZkhimpir4rl",
      "include_colab_link": true
    },
    "kernelspec": {
      "name": "python3",
      "display_name": "Python 3"
    },
    "language_info": {
      "name": "python"
    }
  },
  "cells": [
    {
      "cell_type": "markdown",
      "metadata": {
        "id": "view-in-github",
        "colab_type": "text"
      },
      "source": [
        "<a href=\"https://colab.research.google.com/github/gasoline-car/Introduction-to-IOT/blob/main/mqtt_thingspeak.ipynb\" target=\"_parent\"><img src=\"https://colab.research.google.com/assets/colab-badge.svg\" alt=\"Open In Colab\"/></a>"
      ]
    },
    {
      "cell_type": "code",
      "execution_count": null,
      "metadata": {
        "colab": {
          "base_uri": "https://localhost:8080/"
        },
        "id": "tlOcQlvhYdvo",
        "outputId": "db9d98ee-1681-4cf4-efcd-e0e51440d912"
      },
      "outputs": [
        {
          "output_type": "stream",
          "name": "stdout",
          "text": [
            "Collecting paho-mqtt\n",
            "  Downloading paho_mqtt-2.0.0-py3-none-any.whl (66 kB)\n",
            "\u001b[2K     \u001b[90m━━━━━━━━━━━━━━━━━━━━━━━━━━━━━━━━━━━━━━━━\u001b[0m \u001b[32m66.9/66.9 kB\u001b[0m \u001b[31m935.5 kB/s\u001b[0m eta \u001b[36m0:00:00\u001b[0m\n",
            "\u001b[?25hInstalling collected packages: paho-mqtt\n",
            "Successfully installed paho-mqtt-2.0.0\n"
          ]
        }
      ],
      "source": [
        "!pip install paho-mqtt"
      ]
    },
    {
      "cell_type": "code",
      "source": [
        "import json\n",
        "import requests\n",
        "n=0\n",
        "\n",
        "def doit(topic, payload):\n",
        "  global n\n",
        "  print(topic, payload)\n",
        "  j=json.loads(payload)\n",
        "  #print(j['co2'])\n",
        "  #url='https://api.thingspeak.com/update?api_key=MBXHFKNOS3NTXOGA'\n",
        "  url='https://api.thingspeak.com/update?api_key=JQH3U13AHE9NBRZZ'\n",
        "  url +='&field1='+j['co2']\n",
        "  url +='&field2='+j['bme680'].split(',')[0]\n",
        "  if n>15:\n",
        "    r=requests.get(url)\n",
        "    print(url, r.text)\n",
        "    n=0\n",
        "  n+=1\n"
      ],
      "metadata": {
        "id": "NWfhyQ7IYiem"
      },
      "execution_count": 4,
      "outputs": []
    },
    {
      "cell_type": "code",
      "source": [
        "import paho.mqtt.client as mqtt\n",
        "\n",
        "def on_connect(client, userdata, flags, reason_code, properties):\n",
        "    print(f\"Connected with result code {reason_code}\")\n",
        "    client.subscribe(\"connectware/indoor/data/1501\")\n",
        "\n",
        "def on_message(client, userdata, msg):\n",
        "    doit(msg.topic, msg.payload.decode('utf8'))\n",
        "\n",
        "client = mqtt.Client(mqtt.CallbackAPIVersion.VERSION2)\n",
        "client.on_connect = on_connect\n",
        "client.on_message = on_message\n",
        "\n",
        "client.connect(\"damoa.io\", 1883, 60)\n",
        "client.loop_forever()"
      ],
      "metadata": {
        "colab": {
          "base_uri": "https://localhost:8080/"
        },
        "id": "f-d_NC-_YkDn",
        "outputId": "6d939520-8eae-4707-f778-69197da42961"
      },
      "execution_count": null,
      "outputs": [
        {
          "output_type": "stream",
          "name": "stdout",
          "text": [
            "Connected with result code Success\n",
            "connectware/indoor/data/1501 {\"dust\":\"1,1\",\"co2\":\"na\",\"bme680\":\"25.55,37.67,369129,100554,64.22\",\"time\":\"2024-04-04 15:08:25\", \"serial\":1, \"ip\":\"203.255.190.49\"}\n",
            "connectware/indoor/data/1501 {\"dust\":\"1,1\",\"co2\":\"397\",\"bme680\":\"25.47,37.68,379778,100557,63.97\",\"time\":\"2024-04-04 15:08:26\", \"serial\":2, \"ip\":\"203.255.190.49\"}\n",
            "connectware/indoor/data/1501 {\"dust\":\"2,2\",\"co2\":\"397\",\"bme680\":\"25.53,37.57,386774,100560,63.80\",\"time\":\"2024-04-04 15:08:27\", \"serial\":3, \"ip\":\"203.255.190.49\"}\n",
            "connectware/indoor/data/1501 {\"dust\":\"2,2\",\"co2\":\"397\",\"bme680\":\"25.62,37.41,394034,100561,63.80\",\"time\":\"2024-04-04 15:08:28\", \"serial\":4, \"ip\":\"203.255.190.49\"}\n",
            "connectware/indoor/data/1501 {\"dust\":\"1,1\",\"co2\":\"397\",\"bme680\":\"25.71,37.23,398947,100560,63.89\",\"time\":\"2024-04-04 15:08:29\", \"serial\":5, \"ip\":\"203.255.190.49\"}\n",
            "connectware/indoor/data/1501 {\"dust\":\"2,2\",\"co2\":\"397\",\"bme680\":\"25.79,37.04,404959,100560,63.97\",\"time\":\"2024-04-04 15:08:30\", \"serial\":6, \"ip\":\"203.255.190.49\"}\n",
            "connectware/indoor/data/1501 {\"dust\":\"2,2\",\"co2\":\"397\",\"bme680\":\"25.86,36.86,409401,100560,63.89\",\"time\":\"2024-04-04 15:08:31\", \"serial\":7, \"ip\":\"203.255.190.49\"}\n",
            "connectware/indoor/data/1501 {\"dust\":\"2,2\",\"co2\":\"397\",\"bme680\":\"25.92,36.68,414197,100560,63.89\",\"time\":\"2024-04-04 15:08:32\", \"serial\":8, \"ip\":\"203.255.190.49\"}\n",
            "connectware/indoor/data/1501 {\"dust\":\"3,3\",\"co2\":\"397\",\"bme680\":\"25.97,36.51,418584,100560,63.97\",\"time\":\"2024-04-04 15:08:33\", \"serial\":9, \"ip\":\"203.255.190.49\"}\n",
            "connectware/indoor/data/1501 {\"dust\":\"3,3\",\"co2\":\"397\",\"bme680\":\"26.02,36.36,426286,100560,63.80\",\"time\":\"2024-04-04 15:08:34\", \"serial\":10, \"ip\":\"203.255.190.49\"}\n",
            "connectware/indoor/data/1501 {\"dust\":\"4,4\",\"co2\":\"397\",\"bme680\":\"26.06,36.20,431488,100561,63.80\",\"time\":\"2024-04-04 15:08:35\", \"serial\":11, \"ip\":\"203.255.190.49\"}\n",
            "connectware/indoor/data/1501 {\"dust\":\"4,4\",\"co2\":\"397\",\"bme680\":\"26.10,36.08,433437,100561,63.80\",\"time\":\"2024-04-04 15:08:36\", \"serial\":12, \"ip\":\"203.255.190.49\"}\n",
            "connectware/indoor/data/1501 {\"dust\":\"4,4\",\"co2\":\"397\",\"bme680\":\"26.13,35.96,437958,100561,63.80\",\"time\":\"2024-04-04 15:08:37\", \"serial\":13, \"ip\":\"203.255.190.49\"}\n",
            "connectware/indoor/data/1501 {\"dust\":\"4,4\",\"co2\":\"397\",\"bme680\":\"26.16,35.84,441701,100561,63.72\",\"time\":\"2024-04-04 15:08:38\", \"serial\":14, \"ip\":\"203.255.190.49\"}\n",
            "connectware/indoor/data/1501 {\"dust\":\"3,3\",\"co2\":\"397\",\"bme680\":\"26.18,35.71,444330,100562,63.72\",\"time\":\"2024-04-04 15:08:39\", \"serial\":15, \"ip\":\"203.255.190.49\"}\n"
          ]
        }
      ]
    },
    {
      "cell_type": "code",
      "source": [],
      "metadata": {
        "id": "jAlwUZWsZAjX"
      },
      "execution_count": null,
      "outputs": []
    }
  ]
}